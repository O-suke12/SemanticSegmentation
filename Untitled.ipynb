{
 "cells": [
  {
   "cell_type": "code",
   "execution_count": 18,
   "id": "c48f9cf6-1e6c-4b14-9559-f5d26e8ab9e7",
   "metadata": {
    "tags": []
   },
   "outputs": [
    {
     "name": "stderr",
     "output_type": "stream",
     "text": [
      "/home/studio-lab-user/.conda/envs/default/lib/python3.9/site-packages/torchvision/transforms/functional.py:96: UserWarning: TypedStorage is deprecated. It will be removed in the future and UntypedStorage will be the only storage class. This should only matter to you if you are using storages directly.  To access UntypedStorage directly, use tensor.untyped_storage() instead of tensor.storage()\n",
      "  img = torch.ByteTensor(torch.ByteStorage.from_buffer(pic.tobytes()))\n"
     ]
    },
    {
     "name": "stdout",
     "output_type": "stream",
     "text": [
      "{0: 424263, 1: 65356885, 2: 5516147, 4: 12389957, 13: 1534969, 15: 1792049, 22: 6175486, 3: 33705671, 6: 1005275, 8: 12665246, 9: 11344153, 18: 378867, 19: 3794424, 14: 72065, 17: 1255599, 10: 4653028, 11: 1033491, 21: 368713, 12: 68181, 20: 1926905, 5: 2846042, 7: 877699, 16: 20645}\n"
     ]
    }
   ],
   "source": [
    "import matplotlib.pyplot as plt\n",
    "import numpy as np\n",
    "import pandas as pd\n",
    "import cv2\n",
    "from dataset import df_train\n",
    "from dataset import Custom_dataset\n",
    "import albumentations as A\n",
    "import collections, functools, operator\n",
    "\n",
    "image_dir = \"dataset/semantic_drone_dataset/original_images\"\n",
    "mask_dir = \"dataset/semantic_drone_dataset/label_images_semantic\"\n",
    "class_dir = \"class_dict_seg.csv\"\n",
    "\n",
    "t_train = A.Compose([\n",
    "    A.Resize(640, 864),\n",
    "    A.HorizontalFlip(),\n",
    "    A.VerticalFlip(),\n",
    "    A.GridDistortion(p=0.2),\n",
    "    A.RandomBrightnessContrast((0,0.5),(0,0.5)),\n",
    "    A.GaussNoise()\n",
    "    ])\n",
    "mean=[0.485, 0.456, 0.406]\n",
    "std=[0.229, 0.224, 0.225]\n",
    "train_set = Custom_dataset(image_dir, mask_dir, df_train, mean, std, t_train)\n",
    "\n",
    "freq_list = []\n",
    "for i in range(len(train_set)):\n",
    "    sample = train_set.__getitem__(i)[1].numpy()\n",
    "    unique, counts = np.unique(sample, return_counts=True)\n",
    "    freq_list.append(dict(zip(unique, counts)))\n",
    "\n",
    "result = dict(functools.reduce(operator.add,map(collections.Counter, freq_list)))\n",
    "myKeys = list(result.keys())\n",
    "myKeys.sort()\n",
    "result = {i: result[i] for i in myKeys}\n",
    "\n",
    "fig = plt.figure()\n",
    "plt.bar(result.keys(), result.values(), width=0.9)\n",
    "plt.xticks(list(result.keys()), rotation ='horizontal')\n",
    "fig.savefig('evaluation/image_dist.png')\n",
    "\n",
    "plt.imshow([np.array(range(23)),np.array(range(23))])"
   ]
  },
  {
   "cell_type": "code",
   "execution_count": 23,
   "id": "52532302-9d28-4dfd-930d-08d280906377",
   "metadata": {
    "tags": []
   },
   "outputs": [
    {
     "data": {
      "text/plain": [
       "[0,\n",
       " 1,\n",
       " 2,\n",
       " 3,\n",
       " 4,\n",
       " 5,\n",
       " 6,\n",
       " 7,\n",
       " 8,\n",
       " 9,\n",
       " 10,\n",
       " 11,\n",
       " 12,\n",
       " 13,\n",
       " 14,\n",
       " 15,\n",
       " 16,\n",
       " 17,\n",
       " 18,\n",
       " 19,\n",
       " 20,\n",
       " 21,\n",
       " 22]"
      ]
     },
     "execution_count": 23,
     "metadata": {},
     "output_type": "execute_result"
    }
   ],
   "source": [
    "list(result.keys())"
   ]
  },
  {
   "cell_type": "code",
   "execution_count": 24,
   "id": "25410843-f330-4e88-94b9-a9e636ff4ef9",
   "metadata": {
    "tags": []
   },
   "outputs": [
    {
     "data": {
      "text/plain": [
       "dict_values([424263, 65356885, 5516147, 33705671, 12389957, 2846042, 1005275, 877699, 12665246, 11344153, 4653028, 1033491, 68181, 1534969, 72065, 1792049, 20645, 1255599, 378867, 3794424, 1926905, 368713, 6175486])"
      ]
     },
     "execution_count": 24,
     "metadata": {},
     "output_type": "execute_result"
    }
   ],
   "source": [
    "result.values()"
   ]
  },
  {
   "cell_type": "code",
   "execution_count": 37,
   "id": "8705af47-611d-41b0-b86c-44f40e5db976",
   "metadata": {},
   "outputs": [
    {
     "data": {
      "image/png": "[encoded data removed]",
      "text/plain": [
       "<Figure size 640x480 with 1 Axes>"
      ]
     },
     "metadata": {},
     "output_type": "display_data"
    }
   ],
   "source": [
    "fig = plt.figure()\n",
    "plt.bar(result.keys(), result.values(), width=0.9)\n",
    "plt.xticks(list(result.keys()), rotation ='horizontal')\n",
    "fig.savefig('evaluation/image_dist.png')"
   ]
  },
  {
   "cell_type": "code",
   "execution_count": 41,
   "id": "41596247-08f3-4f2f-a22b-a284416a4003",
   "metadata": {
    "tags": []
   },
   "outputs": [
    {
     "data": {
      "image/png": "[encoded data removed]",
      "text/plain": [
       "<Figure size 640x480 with 1 Axes>"
      ]
     },
     "metadata": {},
     "output_type": "display_data"
    }
   ],
   "source": [
    "plt.imshow([np.array(range(23)),np.array(range(23))])\n",
    "fig.savefig('evaluation/imcolor_dist.png')"
   ]
  },
  {
   "cell_type": "code",
   "execution_count": null,
   "id": "a40ccda5-8584-492c-8ce2-2160946898f7",
   "metadata": {},
   "outputs": [],
   "source": []
  }
 ],
 "metadata": {
  "kernelspec": {
   "display_name": "default:Python",
   "language": "python",
   "name": "conda-env-default-py"
  },
  "language_info": {
   "codemirror_mode": {
    "name": "ipython",
    "version": 3
   },
   "file_extension": ".py",
   "mimetype": "text/x-python",
   "name": "python",
   "nbconvert_exporter": "python",
   "pygments_lexer": "ipython3",
   "version": "3.9.16"
  }
 },
 "nbformat": 4,
 "nbformat_minor": 5
}
